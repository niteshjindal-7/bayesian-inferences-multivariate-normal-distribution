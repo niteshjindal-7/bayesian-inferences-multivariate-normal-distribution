{
 "cells": [
  {
   "cell_type": "code",
   "execution_count": 1,
   "id": "79159d3c",
   "metadata": {},
   "outputs": [],
   "source": [
    "import pandas as pd\n",
    "import numpy as np\n",
    "import statsmodels.api as sm\n",
    "#import xlrd\n",
    "import openpyxl\n",
    "from scipy.stats import multivariate_normal # used in gaussian pdf computation on mnist data.\n",
    "\n",
    "\n",
    "#pip install openpyxl==3.0.5\n"
   ]
  },
  {
   "cell_type": "code",
   "execution_count": 2,
   "id": "28836899",
   "metadata": {},
   "outputs": [
    {
     "data": {
      "text/html": [
       "<div>\n",
       "<style scoped>\n",
       "    .dataframe tbody tr th:only-of-type {\n",
       "        vertical-align: middle;\n",
       "    }\n",
       "\n",
       "    .dataframe tbody tr th {\n",
       "        vertical-align: top;\n",
       "    }\n",
       "\n",
       "    .dataframe thead th {\n",
       "        text-align: right;\n",
       "    }\n",
       "</style>\n",
       "<table border=\"1\" class=\"dataframe\">\n",
       "  <thead>\n",
       "    <tr style=\"text-align: right;\">\n",
       "      <th></th>\n",
       "      <th>exec_key_matrices_overall</th>\n",
       "      <th>Innovation_leader</th>\n",
       "      <th>Regulatory_leader</th>\n",
       "      <th>Interoperability_leader</th>\n",
       "      <th>Network_and_Data_Security_leader</th>\n",
       "      <th>Population_Health_leader</th>\n",
       "      <th>Rev_Cycle_Management_leader</th>\n",
       "      <th>PAS_leader</th>\n",
       "      <th>Business_intelligence_leader</th>\n",
       "    </tr>\n",
       "  </thead>\n",
       "  <tbody>\n",
       "    <tr>\n",
       "      <th>0</th>\n",
       "      <td>8.0</td>\n",
       "      <td>5.0</td>\n",
       "      <td>5.0</td>\n",
       "      <td>5.0</td>\n",
       "      <td>5.0</td>\n",
       "      <td>5.0</td>\n",
       "      <td>NaN</td>\n",
       "      <td>7.0</td>\n",
       "      <td>NaN</td>\n",
       "    </tr>\n",
       "    <tr>\n",
       "      <th>1</th>\n",
       "      <td>7.0</td>\n",
       "      <td>NaN</td>\n",
       "      <td>NaN</td>\n",
       "      <td>NaN</td>\n",
       "      <td>NaN</td>\n",
       "      <td>NaN</td>\n",
       "      <td>NaN</td>\n",
       "      <td>NaN</td>\n",
       "      <td>NaN</td>\n",
       "    </tr>\n",
       "    <tr>\n",
       "      <th>2</th>\n",
       "      <td>5.0</td>\n",
       "      <td>NaN</td>\n",
       "      <td>NaN</td>\n",
       "      <td>NaN</td>\n",
       "      <td>NaN</td>\n",
       "      <td>NaN</td>\n",
       "      <td>NaN</td>\n",
       "      <td>NaN</td>\n",
       "      <td>NaN</td>\n",
       "    </tr>\n",
       "    <tr>\n",
       "      <th>3</th>\n",
       "      <td>NaN</td>\n",
       "      <td>NaN</td>\n",
       "      <td>NaN</td>\n",
       "      <td>NaN</td>\n",
       "      <td>NaN</td>\n",
       "      <td>NaN</td>\n",
       "      <td>NaN</td>\n",
       "      <td>NaN</td>\n",
       "      <td>NaN</td>\n",
       "    </tr>\n",
       "    <tr>\n",
       "      <th>4</th>\n",
       "      <td>NaN</td>\n",
       "      <td>NaN</td>\n",
       "      <td>NaN</td>\n",
       "      <td>NaN</td>\n",
       "      <td>NaN</td>\n",
       "      <td>NaN</td>\n",
       "      <td>NaN</td>\n",
       "      <td>NaN</td>\n",
       "      <td>NaN</td>\n",
       "    </tr>\n",
       "    <tr>\n",
       "      <th>...</th>\n",
       "      <td>...</td>\n",
       "      <td>...</td>\n",
       "      <td>...</td>\n",
       "      <td>...</td>\n",
       "      <td>...</td>\n",
       "      <td>...</td>\n",
       "      <td>...</td>\n",
       "      <td>...</td>\n",
       "      <td>...</td>\n",
       "    </tr>\n",
       "    <tr>\n",
       "      <th>7027</th>\n",
       "      <td>7.0</td>\n",
       "      <td>7.0</td>\n",
       "      <td>8.0</td>\n",
       "      <td>7.0</td>\n",
       "      <td>9.0</td>\n",
       "      <td>NaN</td>\n",
       "      <td>NaN</td>\n",
       "      <td>NaN</td>\n",
       "      <td>NaN</td>\n",
       "    </tr>\n",
       "    <tr>\n",
       "      <th>7028</th>\n",
       "      <td>7.0</td>\n",
       "      <td>7.0</td>\n",
       "      <td>7.0</td>\n",
       "      <td>7.0</td>\n",
       "      <td>7.0</td>\n",
       "      <td>3.0</td>\n",
       "      <td>NaN</td>\n",
       "      <td>NaN</td>\n",
       "      <td>NaN</td>\n",
       "    </tr>\n",
       "    <tr>\n",
       "      <th>7029</th>\n",
       "      <td>7.0</td>\n",
       "      <td>7.0</td>\n",
       "      <td>8.0</td>\n",
       "      <td>6.0</td>\n",
       "      <td>7.0</td>\n",
       "      <td>7.0</td>\n",
       "      <td>NaN</td>\n",
       "      <td>NaN</td>\n",
       "      <td>NaN</td>\n",
       "    </tr>\n",
       "    <tr>\n",
       "      <th>7030</th>\n",
       "      <td>9.0</td>\n",
       "      <td>8.0</td>\n",
       "      <td>9.0</td>\n",
       "      <td>6.0</td>\n",
       "      <td>8.0</td>\n",
       "      <td>8.0</td>\n",
       "      <td>NaN</td>\n",
       "      <td>NaN</td>\n",
       "      <td>NaN</td>\n",
       "    </tr>\n",
       "    <tr>\n",
       "      <th>7031</th>\n",
       "      <td>8.0</td>\n",
       "      <td>8.0</td>\n",
       "      <td>9.0</td>\n",
       "      <td>8.0</td>\n",
       "      <td>9.0</td>\n",
       "      <td>8.0</td>\n",
       "      <td>NaN</td>\n",
       "      <td>NaN</td>\n",
       "      <td>NaN</td>\n",
       "    </tr>\n",
       "  </tbody>\n",
       "</table>\n",
       "<p>7032 rows × 9 columns</p>\n",
       "</div>"
      ],
      "text/plain": [
       "      exec_key_matrices_overall  Innovation_leader  Regulatory_leader  \\\n",
       "0                           8.0                5.0                5.0   \n",
       "1                           7.0                NaN                NaN   \n",
       "2                           5.0                NaN                NaN   \n",
       "3                           NaN                NaN                NaN   \n",
       "4                           NaN                NaN                NaN   \n",
       "...                         ...                ...                ...   \n",
       "7027                        7.0                7.0                8.0   \n",
       "7028                        7.0                7.0                7.0   \n",
       "7029                        7.0                7.0                8.0   \n",
       "7030                        9.0                8.0                9.0   \n",
       "7031                        8.0                8.0                9.0   \n",
       "\n",
       "      Interoperability_leader  Network_and_Data_Security_leader  \\\n",
       "0                         5.0                               5.0   \n",
       "1                         NaN                               NaN   \n",
       "2                         NaN                               NaN   \n",
       "3                         NaN                               NaN   \n",
       "4                         NaN                               NaN   \n",
       "...                       ...                               ...   \n",
       "7027                      7.0                               9.0   \n",
       "7028                      7.0                               7.0   \n",
       "7029                      6.0                               7.0   \n",
       "7030                      6.0                               8.0   \n",
       "7031                      8.0                               9.0   \n",
       "\n",
       "      Population_Health_leader  Rev_Cycle_Management_leader  PAS_leader  \\\n",
       "0                          5.0                          NaN         7.0   \n",
       "1                          NaN                          NaN         NaN   \n",
       "2                          NaN                          NaN         NaN   \n",
       "3                          NaN                          NaN         NaN   \n",
       "4                          NaN                          NaN         NaN   \n",
       "...                        ...                          ...         ...   \n",
       "7027                       NaN                          NaN         NaN   \n",
       "7028                       3.0                          NaN         NaN   \n",
       "7029                       7.0                          NaN         NaN   \n",
       "7030                       8.0                          NaN         NaN   \n",
       "7031                       8.0                          NaN         NaN   \n",
       "\n",
       "      Business_intelligence_leader  \n",
       "0                              NaN  \n",
       "1                              NaN  \n",
       "2                              NaN  \n",
       "3                              NaN  \n",
       "4                              NaN  \n",
       "...                            ...  \n",
       "7027                           NaN  \n",
       "7028                           NaN  \n",
       "7029                           NaN  \n",
       "7030                           NaN  \n",
       "7031                           NaN  \n",
       "\n",
       "[7032 rows x 9 columns]"
      ]
     },
     "metadata": {},
     "output_type": "display_data"
    }
   ],
   "source": [
    "data =pd.read_excel(r'C:/.../orgzn_data/orgzn_ratings.xlsx', engine='openpyxl') # import digits data\n",
    "\n",
    "display(data)"
   ]
  },
  {
   "cell_type": "code",
   "execution_count": 3,
   "id": "c276263a",
   "metadata": {},
   "outputs": [
    {
     "data": {
      "text/plain": [
       "(7032, 9)"
      ]
     },
     "execution_count": 3,
     "metadata": {},
     "output_type": "execute_result"
    }
   ],
   "source": [
    "data.shape  # (7032, 9)"
   ]
  },
  {
   "cell_type": "code",
   "execution_count": 4,
   "id": "a9bca6e5",
   "metadata": {},
   "outputs": [
    {
     "name": "stdout",
     "output_type": "stream",
     "text": [
      "\n",
      "Missing Values % in Data:\n",
      "exec_key_matrices_overall           0.086320\n",
      "Innovation_leader                   0.352531\n",
      "Regulatory_leader                   0.366752\n",
      "Interoperability_leader             0.356940\n",
      "Network_and_Data_Security_leader    0.380262\n",
      "Population_Health_leader            0.468999\n",
      "Rev_Cycle_Management_leader         0.564420\n",
      "PAS_leader                          0.926479\n",
      "Business_intelligence_leader        0.984642\n",
      "dtype: float64\n",
      "\n",
      "Shape of data:-\n",
      " (2656, 7)\n",
      "\n",
      "Missing Values % in Data_1:\n",
      "exec_key_matrices_overall           0.0\n",
      "Innovation_leader                   0.0\n",
      "Regulatory_leader                   0.0\n",
      "Interoperability_leader             0.0\n",
      "Network_and_Data_Security_leader    0.0\n",
      "Population_Health_leader            0.0\n",
      "Rev_Cycle_Management_leader         0.0\n",
      "dtype: float64\n"
     ]
    }
   ],
   "source": [
    "'Missing value treatment'\n",
    "\n",
    "print(\"\\nMissing Values % in Data:\\n{}\".format(data.isnull().sum(axis = 0)/data.shape[0]))\n",
    "\n",
    "'remove NAs and drop columns with almost every observation as NA'\n",
    "data_1 = data.dropna(axis=0, how='any', thresh=None, subset= data.columns[:-2], inplace=False).iloc[:, 0:-2]\n",
    "print(\"\\nShape of data:-\\n\",data_1.shape)\n",
    "#PAS_leader and Business_intelligence_leader have lots of null values. Drop these two columns. \n",
    "#data_1 = data_1. # remove last two columns as they are completely NAs.\n",
    "\n",
    "\n",
    "'percentage of null values after their treatment'\n",
    "\n",
    "print(\"\\nMissing Values % in Data_1:\\n{}\".format(data_1.isnull().sum(axis = 0)/data_1.shape[0]))"
   ]
  },
  {
   "cell_type": "code",
   "execution_count": 5,
   "id": "9aec0d35",
   "metadata": {},
   "outputs": [
    {
     "name": "stdout",
     "output_type": "stream",
     "text": [
      "\n",
      "overall ratings array (response variable):\n"
     ]
    },
    {
     "data": {
      "text/plain": [
       "array([7., 2., 7., ..., 4., 8., 8.])"
      ]
     },
     "metadata": {},
     "output_type": "display_data"
    },
    {
     "name": "stdout",
     "output_type": "stream",
     "text": [
      "\n",
      "Features array:\n"
     ]
    },
    {
     "data": {
      "text/plain": [
       "array([[7., 7., 7., 8., 7., 7.],\n",
       "       [3., 6., 6., 7., 3., 5.],\n",
       "       [7., 7., 7., 7., 7., 7.],\n",
       "       ...,\n",
       "       [5., 5., 5., 5., 5., 5.],\n",
       "       [7., 9., 8., 8., 8., 7.],\n",
       "       [9., 8., 8., 8., 8., 7.]])"
      ]
     },
     "metadata": {},
     "output_type": "display_data"
    }
   ],
   "source": [
    "'Transform features and response to array shape'\n",
    "\n",
    "'''\n",
    "There are ten rating categories on a scale of 1-10 in the response variable.Further to it, there are other six variables, \n",
    "namely, Innovation_leader, Regulatory_leader, Interoperability_leader, Network_and_Data_Security_leader,\n",
    "Population_Health_leader,Rev_Cycle_Management_leader, PAS_leader, Business_intelligence_leader which contributes to overall\n",
    "organization rating(exec_key_matrices_overall).\n",
    "\n",
    "'''\n",
    "#response var/dependent variable - this is overall rating \n",
    "dv= data_1['exec_key_matrices_overall'] \n",
    "dv_arr = np.array(dv)\n",
    "print(\"\\noverall ratings array (response variable):\")\n",
    "display(dv_arr)\n",
    "\n",
    "#independent var\n",
    "ivs = data_1.iloc[: , 1:]  # consider all columns except the dependent variabe(dv) as independent variable\n",
    "features = ivs.iloc[:, :].values \n",
    "#features_arr = np.array(features) #Features Array\n",
    "print(\"\\nFeatures array:\")\n",
    "display(features)"
   ]
  },
  {
   "cell_type": "code",
   "execution_count": 6,
   "id": "b3870bc3",
   "metadata": {},
   "outputs": [
    {
     "name": "stdout",
     "output_type": "stream",
     "text": [
      "\n",
      "label distribution in dependent variable:\n",
      " {1.0: 31, 2.0: 27, 3.0: 133, 4.0: 82, 5.0: 202, 6.0: 261, 7.0: 1051, 8.0: 604, 9.0: 265}\n"
     ]
    }
   ],
   "source": [
    "'Distribution of rating labels[1-10] in dependent variable i.e. overall rating'\n",
    "\n",
    "c = dict(sorted(dv.value_counts().to_dict().items())) \n",
    "#c= dict(sorted(c.items()))\n",
    "print(\"\\nlabel distribution in dependent variable:\\n {}\".format(c))"
   ]
  },
  {
   "cell_type": "code",
   "execution_count": 7,
   "id": "f9260aa4",
   "metadata": {},
   "outputs": [
    {
     "name": "stdout",
     "output_type": "stream",
     "text": [
      "\n",
      "Prior Probability Distribution of classes:\n",
      "[(1.0, 0.011671686746987951), (2.0, 0.01016566265060241), (3.0, 0.050075301204819275), (4.0, 0.030873493975903613), (5.0, 0.07605421686746988), (6.0, 0.09826807228915663), (7.0, 0.3957078313253012), (8.0, 0.22740963855421686), (9.0, 0.09977409638554217)]\n"
     ]
    }
   ],
   "source": [
    "\n",
    "\"get the prior probability distribution from the data\"\n",
    "prior_prob = np.ones(len(c)) # 10 since we have 10 class labels in our data.\n",
    "for i in range(len(c)):\n",
    "    prior_prob[i] = c[i+1]/dv.shape[0] #dictionary start with 1 not with 0.\n",
    "prior_prob\n",
    "prior_prob_list = list(prior_prob)\n",
    "print(\"\\nPrior Probability Distribution of classes:\\n{}\".format(list(zip(c.keys(),prior_prob_list))))\n",
    "\n",
    "\"2- create function to form the gaussian distribution per class label\"\n",
    "\n",
    "'''\n",
    "To define a gaussian distribution, we would need mean and variance parameters.Calculate mean and variance for\n",
    "each class subset of data.\n",
    "'''\n",
    "def normdist(data):  \n",
    "    var = np.cov(data.T)  # to compute covariance, we need to horizontally stack variables.\n",
    "    mean_array = []\n",
    "    for i in range(data.shape[1]):\n",
    "        mu = np.mean(data[:,i])\n",
    "        mean_array.append(mu)\n",
    "    \n",
    "    ma = np.array(mean_array) #mean array from subset of data having a particular class label.\n",
    "    print(\"\\nmean array-\")\n",
    "    display(ma)\n",
    "    print(\"\\nvariance matrix-\")\n",
    "    display(var)\n",
    "    distribution = multivariate_normal(ma, var)\n",
    "    return distribution"
   ]
  },
  {
   "cell_type": "code",
   "execution_count": 8,
   "id": "5e59092a",
   "metadata": {},
   "outputs": [
    {
     "name": "stdout",
     "output_type": "stream",
     "text": [
      "\n",
      "label flag for which to computer multivariate distribution:  1\n",
      "\n",
      "mean array-\n"
     ]
    },
    {
     "data": {
      "text/plain": [
       "array([2.12903226, 2.4516129 , 2.38709677, 3.48387097, 3.03225806,\n",
       "       1.83870968])"
      ]
     },
     "metadata": {},
     "output_type": "display_data"
    },
    {
     "name": "stdout",
     "output_type": "stream",
     "text": [
      "\n",
      "variance matrix-\n"
     ]
    },
    {
     "data": {
      "text/plain": [
       "array([[3.3827957 , 2.50645161, 1.91505376, 2.00215054, 2.12903226,\n",
       "        0.72150538],\n",
       "       [2.50645161, 3.45591398, 1.81935484, 2.67419355, 2.6516129 ,\n",
       "        1.60860215],\n",
       "       [1.91505376, 1.81935484, 3.11182796, 1.97311828, 2.02043011,\n",
       "        1.16451613],\n",
       "       [2.00215054, 2.67419355, 1.97311828, 4.72473118, 3.4172043 ,\n",
       "        1.94731183],\n",
       "       [2.12903226, 2.6516129 , 2.02043011, 3.4172043 , 3.5655914 ,\n",
       "        1.50537634],\n",
       "       [0.72150538, 1.60860215, 1.16451613, 1.94731183, 1.50537634,\n",
       "        2.67311828]])"
      ]
     },
     "metadata": {},
     "output_type": "display_data"
    },
    {
     "name": "stdout",
     "output_type": "stream",
     "text": [
      "\n",
      "label flag for which to computer multivariate distribution:  2\n",
      "\n",
      "mean array-\n"
     ]
    },
    {
     "data": {
      "text/plain": [
       "array([3.25925926, 4.18518519, 3.81481481, 5.59259259, 4.88888889,\n",
       "       3.07407407])"
      ]
     },
     "metadata": {},
     "output_type": "display_data"
    },
    {
     "name": "stdout",
     "output_type": "stream",
     "text": [
      "\n",
      "variance matrix-\n"
     ]
    },
    {
     "data": {
      "text/plain": [
       "array([[4.04558405, 2.2962963 , 2.74216524, 1.87891738, 1.68376068,\n",
       "        2.05698006],\n",
       "       [2.2962963 , 4.38746439, 2.26638177, 0.5014245 , 2.82905983,\n",
       "        1.56267806],\n",
       "       [2.74216524, 2.26638177, 4.61823362, 1.07549858, 2.32478632,\n",
       "        2.01424501],\n",
       "       [1.87891738, 0.5014245 , 1.07549858, 4.48148148, 1.37606838,\n",
       "        1.10826211],\n",
       "       [1.68376068, 2.82905983, 2.32478632, 1.37606838, 4.94871795,\n",
       "        1.73931624],\n",
       "       [2.05698006, 1.56267806, 2.01424501, 1.10826211, 1.73931624,\n",
       "        4.3019943 ]])"
      ]
     },
     "metadata": {},
     "output_type": "display_data"
    },
    {
     "name": "stdout",
     "output_type": "stream",
     "text": [
      "\n",
      "label flag for which to computer multivariate distribution:  3\n",
      "\n",
      "mean array-\n"
     ]
    },
    {
     "data": {
      "text/plain": [
       "array([4.21052632, 4.54887218, 4.44360902, 5.60150376, 4.60902256,\n",
       "       3.03007519])"
      ]
     },
     "metadata": {},
     "output_type": "display_data"
    },
    {
     "name": "stdout",
     "output_type": "stream",
     "text": [
      "\n",
      "variance matrix-\n"
     ]
    },
    {
     "data": {
      "text/plain": [
       "array([[2.47049442, 1.58054226, 1.42105263, 0.81180223, 0.8708134 ,\n",
       "        0.38755981],\n",
       "       [1.58054226, 3.06766917, 1.48951925, 1.18250171, 0.9965254 ,\n",
       "        0.36215539],\n",
       "       [1.42105263, 1.48951925, 3.1426293 , 1.30690362, 1.05354295,\n",
       "        0.19110276],\n",
       "       [0.81180223, 1.18250171, 1.30690362, 2.57484621, 0.69907724,\n",
       "        0.09540898],\n",
       "       [0.8708134 , 0.9965254 , 1.05354295, 0.69907724, 2.52779676,\n",
       "        0.23154477],\n",
       "       [0.38755981, 0.36215539, 0.19110276, 0.09540898, 0.23154477,\n",
       "        2.78696742]])"
      ]
     },
     "metadata": {},
     "output_type": "display_data"
    },
    {
     "name": "stdout",
     "output_type": "stream",
     "text": [
      "\n",
      "label flag for which to computer multivariate distribution:  4\n",
      "\n",
      "mean array-\n"
     ]
    },
    {
     "data": {
      "text/plain": [
       "array([5.15853659, 5.58536585, 4.85365854, 5.86585366, 5.13414634,\n",
       "       3.73170732])"
      ]
     },
     "metadata": {},
     "output_type": "display_data"
    },
    {
     "name": "stdout",
     "output_type": "stream",
     "text": [
      "\n",
      "variance matrix-\n"
     ]
    },
    {
     "data": {
      "text/plain": [
       "array([[3.02393857, 1.39987955, 1.69015357, 0.73757904, 1.33649503,\n",
       "        0.37639265],\n",
       "       [1.39987955, 2.14694369, 1.67931346, 0.96838302, 1.04396266,\n",
       "        0.54170431],\n",
       "       [1.69015357, 1.67931346, 3.65733213, 0.72086721, 1.48900933,\n",
       "        0.50346281],\n",
       "       [0.73757904, 0.96838302, 0.72086721, 1.99412827, 0.58611864,\n",
       "        0.02529359],\n",
       "       [1.33649503, 1.04396266, 1.48900933, 0.58611864, 2.33980729,\n",
       "        0.67841012],\n",
       "       [0.37639265, 0.54170431, 0.50346281, 0.02529359, 0.67841012,\n",
       "        3.30984643]])"
      ]
     },
     "metadata": {},
     "output_type": "display_data"
    },
    {
     "name": "stdout",
     "output_type": "stream",
     "text": [
      "\n",
      "label flag for which to computer multivariate distribution:  5\n",
      "\n",
      "mean array-\n"
     ]
    },
    {
     "data": {
      "text/plain": [
       "array([5.31683168, 5.53960396, 5.25247525, 6.01485149, 5.31188119,\n",
       "       4.1980198 ])"
      ]
     },
     "metadata": {},
     "output_type": "display_data"
    },
    {
     "name": "stdout",
     "output_type": "stream",
     "text": [
      "\n",
      "variance matrix-\n"
     ]
    },
    {
     "data": {
      "text/plain": [
       "array([[1.83941678, 0.77345944, 1.00916211, 0.52760948, 0.70168957,\n",
       "        0.38471011],\n",
       "       [0.77345944, 2.01086153, 0.88796118, 0.83274223, 0.75126841,\n",
       "        0.61400916],\n",
       "       [1.00916211, 0.88796118, 2.05036698, 0.62807251, 0.99051771,\n",
       "        0.55672134],\n",
       "       [0.52760948, 0.83274223, 0.62807251, 1.65649475, 0.50778287,\n",
       "        0.50948229],\n",
       "       [0.70168957, 0.75126841, 0.99051771, 0.50778287, 1.84751983,\n",
       "        0.73892912],\n",
       "       [0.38471011, 0.61400916, 0.55672134, 0.50948229, 0.73892912,\n",
       "        2.44815526]])"
      ]
     },
     "metadata": {},
     "output_type": "display_data"
    },
    {
     "name": "stdout",
     "output_type": "stream",
     "text": [
      "\n",
      "label flag for which to computer multivariate distribution:  6\n",
      "\n",
      "mean array-\n"
     ]
    },
    {
     "data": {
      "text/plain": [
       "array([5.87739464, 6.17241379, 5.77394636, 6.44827586, 5.76628352,\n",
       "       4.89655172])"
      ]
     },
     "metadata": {},
     "output_type": "display_data"
    },
    {
     "name": "stdout",
     "output_type": "stream",
     "text": [
      "\n",
      "variance matrix-\n"
     ]
    },
    {
     "data": {
      "text/plain": [
       "array([[1.76183319, 0.91737401, 0.97217801, 0.55132626, 0.75969643,\n",
       "        0.47188329],\n",
       "       [0.91737401, 1.89708223, 0.91604775, 0.71087533, 0.73660477,\n",
       "        0.65251989],\n",
       "       [0.97217801, 0.91604775, 2.15254937, 0.37480106, 0.73542588,\n",
       "        0.63806366],\n",
       "       [0.55132626, 0.71087533, 0.37480106, 1.77135279, 0.40517241,\n",
       "        0.2734748 ],\n",
       "       [0.75969643, 0.73660477, 0.73542588, 0.40517241, 1.70285883,\n",
       "        0.63342175],\n",
       "       [0.47188329, 0.65251989, 0.63806366, 0.2734748 , 0.63342175,\n",
       "        3.00848806]])"
      ]
     },
     "metadata": {},
     "output_type": "display_data"
    },
    {
     "name": "stdout",
     "output_type": "stream",
     "text": [
      "\n",
      "label flag for which to computer multivariate distribution:  7\n",
      "\n",
      "mean array-\n"
     ]
    },
    {
     "data": {
      "text/plain": [
       "array([6.71741199, 6.94576594, 6.62416746, 7.07611798, 6.5394862 ,\n",
       "       5.72312084])"
      ]
     },
     "metadata": {},
     "output_type": "display_data"
    },
    {
     "name": "stdout",
     "output_type": "stream",
     "text": [
      "\n",
      "variance matrix-\n"
     ]
    },
    {
     "data": {
      "text/plain": [
       "array([[1.66959177, 0.80370713, 0.95083594, 0.57581623, 0.83831181,\n",
       "        0.57787323],\n",
       "       [0.80370713, 1.78848444, 0.94721671, 0.73556069, 0.83309592,\n",
       "        0.58782656],\n",
       "       [0.95083594, 0.94721671, 1.81956776, 0.73625391, 0.86771148,\n",
       "        0.61203117],\n",
       "       [0.57581623, 0.73556069, 0.73625391, 1.44181958, 0.62365819,\n",
       "        0.37919079],\n",
       "       [0.83831181, 0.83309592, 0.86771148, 0.62365819, 1.8962965 ,\n",
       "        0.82570522],\n",
       "       [0.57787323, 0.58782656, 0.61203117, 0.37919079, 0.82570522,\n",
       "        2.63278873]])"
      ]
     },
     "metadata": {},
     "output_type": "display_data"
    },
    {
     "name": "stdout",
     "output_type": "stream",
     "text": [
      "\n",
      "label flag for which to computer multivariate distribution:  8\n",
      "\n",
      "mean array-\n"
     ]
    },
    {
     "data": {
      "text/plain": [
       "array([7.67880795, 7.76986755, 7.56788079, 7.77980132, 7.42549669,\n",
       "       6.42880795])"
      ]
     },
     "metadata": {},
     "output_type": "display_data"
    },
    {
     "name": "stdout",
     "output_type": "stream",
     "text": [
      "\n",
      "variance matrix-\n"
     ]
    },
    {
     "data": {
      "text/plain": [
       "array([[1.13381218, 0.65730399, 0.70508934, 0.50295432, 0.56972862,\n",
       "        0.54425994],\n",
       "       [0.65730399, 1.27862618, 0.64168396, 0.57610677, 0.58730355,\n",
       "        0.53002372],\n",
       "       [0.70508934, 0.64168396, 1.32042602, 0.55311467, 0.64851515,\n",
       "        0.58361339],\n",
       "       [0.50295432, 0.57610677, 0.55311467, 1.18028785, 0.5863865 ,\n",
       "        0.5174651 ],\n",
       "       [0.56972862, 0.58730355, 0.64851515, 0.5863865 , 1.40240025,\n",
       "        0.61491933],\n",
       "       [0.54425994, 0.53002372, 0.58361339, 0.5174651 , 0.61491933,\n",
       "        2.35810737]])"
      ]
     },
     "metadata": {},
     "output_type": "display_data"
    },
    {
     "name": "stdout",
     "output_type": "stream",
     "text": [
      "\n",
      "label flag for which to computer multivariate distribution:  9\n",
      "\n",
      "mean array-\n"
     ]
    },
    {
     "data": {
      "text/plain": [
       "array([8.55471698, 8.49811321, 8.35849057, 8.49056604, 8.18113208,\n",
       "       7.59245283])"
      ]
     },
     "metadata": {},
     "output_type": "display_data"
    },
    {
     "name": "stdout",
     "output_type": "stream",
     "text": [
      "\n",
      "variance matrix-\n"
     ]
    },
    {
     "data": {
      "text/plain": [
       "array([[0.67218411, 0.3855203 , 0.36856775, 0.25335906, 0.39535449,\n",
       "        0.51859634],\n",
       "       [0.3855203 , 0.94033734, 0.5025729 , 0.45168668, 0.5268582 ,\n",
       "        0.65453116],\n",
       "       [0.36856775, 0.5025729 , 0.88236135, 0.39922813, 0.43860778,\n",
       "        0.43453402],\n",
       "       [0.25335906, 0.45168668, 0.39922813, 0.6675243 , 0.31610921,\n",
       "        0.47720126],\n",
       "       [0.39535449, 0.5268582 , 0.43860778, 0.31610921, 1.3231275 ,\n",
       "        0.91879646],\n",
       "       [0.51859634, 0.65453116, 0.43453402, 0.47720126, 0.91879646,\n",
       "        2.60600343]])"
      ]
     },
     "metadata": {},
     "output_type": "display_data"
    },
    {
     "name": "stdout",
     "output_type": "stream",
     "text": [
      "Probability distribution of observations across all class labels in the data-\n"
     ]
    },
    {
     "data": {
      "text/html": [
       "<div>\n",
       "<style scoped>\n",
       "    .dataframe tbody tr th:only-of-type {\n",
       "        vertical-align: middle;\n",
       "    }\n",
       "\n",
       "    .dataframe tbody tr th {\n",
       "        vertical-align: top;\n",
       "    }\n",
       "\n",
       "    .dataframe thead th {\n",
       "        text-align: right;\n",
       "    }\n",
       "</style>\n",
       "<table border=\"1\" class=\"dataframe\">\n",
       "  <thead>\n",
       "    <tr style=\"text-align: right;\">\n",
       "      <th></th>\n",
       "      <th>1</th>\n",
       "      <th>2</th>\n",
       "      <th>3</th>\n",
       "      <th>4</th>\n",
       "      <th>5</th>\n",
       "      <th>6</th>\n",
       "      <th>7</th>\n",
       "      <th>8</th>\n",
       "      <th>9</th>\n",
       "    </tr>\n",
       "  </thead>\n",
       "  <tbody>\n",
       "    <tr>\n",
       "      <th>0</th>\n",
       "      <td>5.108540e-09</td>\n",
       "      <td>1.116333e-07</td>\n",
       "      <td>1.849559e-07</td>\n",
       "      <td>7.128670e-07</td>\n",
       "      <td>6.659887e-06</td>\n",
       "      <td>2.128361e-05</td>\n",
       "      <td>3.079790e-04</td>\n",
       "      <td>3.871708e-04</td>\n",
       "      <td>7.697831e-05</td>\n",
       "    </tr>\n",
       "    <tr>\n",
       "      <th>1</th>\n",
       "      <td>1.090230e-10</td>\n",
       "      <td>4.953294e-09</td>\n",
       "      <td>3.148156e-07</td>\n",
       "      <td>2.187107e-07</td>\n",
       "      <td>1.902905e-07</td>\n",
       "      <td>2.450514e-07</td>\n",
       "      <td>3.309587e-07</td>\n",
       "      <td>1.210784e-10</td>\n",
       "      <td>7.528153e-16</td>\n",
       "    </tr>\n",
       "    <tr>\n",
       "      <th>2</th>\n",
       "      <td>3.168571e-09</td>\n",
       "      <td>1.213308e-07</td>\n",
       "      <td>2.449083e-07</td>\n",
       "      <td>1.506575e-06</td>\n",
       "      <td>9.507850e-06</td>\n",
       "      <td>3.232948e-05</td>\n",
       "      <td>4.006970e-04</td>\n",
       "      <td>4.293128e-04</td>\n",
       "      <td>5.375391e-05</td>\n",
       "    </tr>\n",
       "    <tr>\n",
       "      <th>3</th>\n",
       "      <td>6.974245e-11</td>\n",
       "      <td>1.208478e-08</td>\n",
       "      <td>4.035059e-09</td>\n",
       "      <td>9.583467e-08</td>\n",
       "      <td>1.646815e-07</td>\n",
       "      <td>9.558212e-07</td>\n",
       "      <td>4.680479e-05</td>\n",
       "      <td>1.612992e-04</td>\n",
       "      <td>2.063840e-04</td>\n",
       "    </tr>\n",
       "    <tr>\n",
       "      <th>4</th>\n",
       "      <td>1.331059e-10</td>\n",
       "      <td>1.909961e-08</td>\n",
       "      <td>2.928436e-07</td>\n",
       "      <td>1.776657e-07</td>\n",
       "      <td>2.582055e-07</td>\n",
       "      <td>1.055208e-07</td>\n",
       "      <td>1.668037e-07</td>\n",
       "      <td>1.195353e-10</td>\n",
       "      <td>3.602941e-18</td>\n",
       "    </tr>\n",
       "    <tr>\n",
       "      <th>...</th>\n",
       "      <td>...</td>\n",
       "      <td>...</td>\n",
       "      <td>...</td>\n",
       "      <td>...</td>\n",
       "      <td>...</td>\n",
       "      <td>...</td>\n",
       "      <td>...</td>\n",
       "      <td>...</td>\n",
       "      <td>...</td>\n",
       "    </tr>\n",
       "    <tr>\n",
       "      <th>2651</th>\n",
       "      <td>6.338815e-08</td>\n",
       "      <td>1.323396e-07</td>\n",
       "      <td>1.289208e-06</td>\n",
       "      <td>9.606569e-08</td>\n",
       "      <td>8.164453e-07</td>\n",
       "      <td>4.455722e-07</td>\n",
       "      <td>5.906738e-07</td>\n",
       "      <td>4.481004e-08</td>\n",
       "      <td>1.057606e-11</td>\n",
       "    </tr>\n",
       "    <tr>\n",
       "      <th>2652</th>\n",
       "      <td>3.026559e-12</td>\n",
       "      <td>2.233470e-09</td>\n",
       "      <td>9.353191e-10</td>\n",
       "      <td>1.718575e-08</td>\n",
       "      <td>2.057358e-08</td>\n",
       "      <td>3.268852e-07</td>\n",
       "      <td>1.558158e-06</td>\n",
       "      <td>6.205806e-07</td>\n",
       "      <td>6.543586e-08</td>\n",
       "    </tr>\n",
       "    <tr>\n",
       "      <th>2653</th>\n",
       "      <td>3.490336e-07</td>\n",
       "      <td>5.535480e-07</td>\n",
       "      <td>7.266873e-06</td>\n",
       "      <td>8.509856e-06</td>\n",
       "      <td>4.383230e-05</td>\n",
       "      <td>4.174862e-05</td>\n",
       "      <td>8.487271e-05</td>\n",
       "      <td>5.319942e-06</td>\n",
       "      <td>5.905765e-10</td>\n",
       "    </tr>\n",
       "    <tr>\n",
       "      <th>2654</th>\n",
       "      <td>1.295224e-09</td>\n",
       "      <td>3.122057e-08</td>\n",
       "      <td>3.296048e-08</td>\n",
       "      <td>2.284518e-07</td>\n",
       "      <td>1.268605e-06</td>\n",
       "      <td>4.238462e-06</td>\n",
       "      <td>1.094390e-04</td>\n",
       "      <td>1.241001e-04</td>\n",
       "      <td>2.952967e-05</td>\n",
       "    </tr>\n",
       "    <tr>\n",
       "      <th>2655</th>\n",
       "      <td>1.702395e-10</td>\n",
       "      <td>1.892939e-08</td>\n",
       "      <td>1.381002e-08</td>\n",
       "      <td>2.183818e-07</td>\n",
       "      <td>6.299300e-07</td>\n",
       "      <td>3.287164e-06</td>\n",
       "      <td>1.125088e-04</td>\n",
       "      <td>3.019539e-04</td>\n",
       "      <td>4.342959e-04</td>\n",
       "    </tr>\n",
       "  </tbody>\n",
       "</table>\n",
       "<p>2656 rows × 9 columns</p>\n",
       "</div>"
      ],
      "text/plain": [
       "                 1             2             3             4             5  \\\n",
       "0     5.108540e-09  1.116333e-07  1.849559e-07  7.128670e-07  6.659887e-06   \n",
       "1     1.090230e-10  4.953294e-09  3.148156e-07  2.187107e-07  1.902905e-07   \n",
       "2     3.168571e-09  1.213308e-07  2.449083e-07  1.506575e-06  9.507850e-06   \n",
       "3     6.974245e-11  1.208478e-08  4.035059e-09  9.583467e-08  1.646815e-07   \n",
       "4     1.331059e-10  1.909961e-08  2.928436e-07  1.776657e-07  2.582055e-07   \n",
       "...            ...           ...           ...           ...           ...   \n",
       "2651  6.338815e-08  1.323396e-07  1.289208e-06  9.606569e-08  8.164453e-07   \n",
       "2652  3.026559e-12  2.233470e-09  9.353191e-10  1.718575e-08  2.057358e-08   \n",
       "2653  3.490336e-07  5.535480e-07  7.266873e-06  8.509856e-06  4.383230e-05   \n",
       "2654  1.295224e-09  3.122057e-08  3.296048e-08  2.284518e-07  1.268605e-06   \n",
       "2655  1.702395e-10  1.892939e-08  1.381002e-08  2.183818e-07  6.299300e-07   \n",
       "\n",
       "                 6             7             8             9  \n",
       "0     2.128361e-05  3.079790e-04  3.871708e-04  7.697831e-05  \n",
       "1     2.450514e-07  3.309587e-07  1.210784e-10  7.528153e-16  \n",
       "2     3.232948e-05  4.006970e-04  4.293128e-04  5.375391e-05  \n",
       "3     9.558212e-07  4.680479e-05  1.612992e-04  2.063840e-04  \n",
       "4     1.055208e-07  1.668037e-07  1.195353e-10  3.602941e-18  \n",
       "...            ...           ...           ...           ...  \n",
       "2651  4.455722e-07  5.906738e-07  4.481004e-08  1.057606e-11  \n",
       "2652  3.268852e-07  1.558158e-06  6.205806e-07  6.543586e-08  \n",
       "2653  4.174862e-05  8.487271e-05  5.319942e-06  5.905765e-10  \n",
       "2654  4.238462e-06  1.094390e-04  1.241001e-04  2.952967e-05  \n",
       "2655  3.287164e-06  1.125088e-04  3.019539e-04  4.342959e-04  \n",
       "\n",
       "[2656 rows x 9 columns]"
      ]
     },
     "metadata": {},
     "output_type": "display_data"
    }
   ],
   "source": [
    "'Obtain the probability distribution of observations across all class labels in the features data'\n",
    "\n",
    "labels = list(c.keys())\n",
    "predictedvalues_traindata = pd.DataFrame()\n",
    "for i in range(9):\n",
    "    X_class = np.array(features[dv == labels[i]]) \n",
    "    print(\"\\nlabel flag for which to computer multivariate distribution: \",i+1)\n",
    "    norm_dist=normdist(X_class)\n",
    "    predictions_class = prior_prob_list[i]*norm_dist.pdf(features) \n",
    "    \n",
    "    '''\n",
    "    The probability of all of the observations in features array (which is having 2656 obs) belonging to the \n",
    "    class label=1 or any other class label is computed by prior probability of a particular class multiplied by\n",
    "    norm_dist.pdf(features_arr) which renders a probability value for each observation in features data associated \n",
    "    with a particular class. \n",
    "    \n",
    "    '''\n",
    "    predictedvalues_traindata = pd.concat([predictedvalues_traindata, pd.DataFrame(predictions_class)], axis = 1)\n",
    "\n",
    "print('Probability distribution of observations across all class labels in the data-')\n",
    "predictedvalues_traindata.columns = [\"1\", \"2\", \"3\", \"4\", \"5\", \"6\", \"7\", \"8\", \"9\"] \n",
    "display(predictedvalues_traindata)"
   ]
  },
  {
   "cell_type": "code",
   "execution_count": 9,
   "id": "1b4ee666",
   "metadata": {},
   "outputs": [],
   "source": [
    "#use features_arr of test data to predict probs on test features"
   ]
  },
  {
   "cell_type": "code",
   "execution_count": 10,
   "id": "7a893e50",
   "metadata": {},
   "outputs": [
    {
     "name": "stdout",
     "output_type": "stream",
     "text": [
      "Actual overall ratings and Predicted Ratings-\n"
     ]
    },
    {
     "data": {
      "text/html": [
       "<div>\n",
       "<style scoped>\n",
       "    .dataframe tbody tr th:only-of-type {\n",
       "        vertical-align: middle;\n",
       "    }\n",
       "\n",
       "    .dataframe tbody tr th {\n",
       "        vertical-align: top;\n",
       "    }\n",
       "\n",
       "    .dataframe thead th {\n",
       "        text-align: right;\n",
       "    }\n",
       "</style>\n",
       "<table border=\"1\" class=\"dataframe\">\n",
       "  <thead>\n",
       "    <tr style=\"text-align: right;\">\n",
       "      <th></th>\n",
       "      <th>predicted_rating</th>\n",
       "      <th>actual_overallrating</th>\n",
       "    </tr>\n",
       "  </thead>\n",
       "  <tbody>\n",
       "    <tr>\n",
       "      <th>0</th>\n",
       "      <td>8</td>\n",
       "      <td>7.0</td>\n",
       "    </tr>\n",
       "    <tr>\n",
       "      <th>1</th>\n",
       "      <td>7</td>\n",
       "      <td>2.0</td>\n",
       "    </tr>\n",
       "    <tr>\n",
       "      <th>2</th>\n",
       "      <td>8</td>\n",
       "      <td>7.0</td>\n",
       "    </tr>\n",
       "    <tr>\n",
       "      <th>3</th>\n",
       "      <td>9</td>\n",
       "      <td>9.0</td>\n",
       "    </tr>\n",
       "    <tr>\n",
       "      <th>4</th>\n",
       "      <td>3</td>\n",
       "      <td>3.0</td>\n",
       "    </tr>\n",
       "    <tr>\n",
       "      <th>...</th>\n",
       "      <td>...</td>\n",
       "      <td>...</td>\n",
       "    </tr>\n",
       "    <tr>\n",
       "      <th>2651</th>\n",
       "      <td>3</td>\n",
       "      <td>3.0</td>\n",
       "    </tr>\n",
       "    <tr>\n",
       "      <th>2652</th>\n",
       "      <td>7</td>\n",
       "      <td>7.0</td>\n",
       "    </tr>\n",
       "    <tr>\n",
       "      <th>2653</th>\n",
       "      <td>7</td>\n",
       "      <td>4.0</td>\n",
       "    </tr>\n",
       "    <tr>\n",
       "      <th>2654</th>\n",
       "      <td>8</td>\n",
       "      <td>8.0</td>\n",
       "    </tr>\n",
       "    <tr>\n",
       "      <th>2655</th>\n",
       "      <td>9</td>\n",
       "      <td>8.0</td>\n",
       "    </tr>\n",
       "  </tbody>\n",
       "</table>\n",
       "<p>2656 rows × 2 columns</p>\n",
       "</div>"
      ],
      "text/plain": [
       "      predicted_rating  actual_overallrating\n",
       "0                    8                   7.0\n",
       "1                    7                   2.0\n",
       "2                    8                   7.0\n",
       "3                    9                   9.0\n",
       "4                    3                   3.0\n",
       "...                ...                   ...\n",
       "2651                 3                   3.0\n",
       "2652                 7                   7.0\n",
       "2653                 7                   4.0\n",
       "2654                 8                   8.0\n",
       "2655                 9                   8.0\n",
       "\n",
       "[2656 rows x 2 columns]"
      ]
     },
     "metadata": {},
     "output_type": "display_data"
    },
    {
     "name": "stdout",
     "output_type": "stream",
     "text": [
      "Correlation between actual rating and predicted ratings:  0.68\n",
      "\n",
      "correlation between actual and predictions-\n"
     ]
    },
    {
     "data": {
      "text/html": [
       "<div>\n",
       "<style scoped>\n",
       "    .dataframe tbody tr th:only-of-type {\n",
       "        vertical-align: middle;\n",
       "    }\n",
       "\n",
       "    .dataframe tbody tr th {\n",
       "        vertical-align: top;\n",
       "    }\n",
       "\n",
       "    .dataframe thead th {\n",
       "        text-align: right;\n",
       "    }\n",
       "</style>\n",
       "<table border=\"1\" class=\"dataframe\">\n",
       "  <thead>\n",
       "    <tr style=\"text-align: right;\">\n",
       "      <th>predicted_rating</th>\n",
       "      <th>1</th>\n",
       "      <th>2</th>\n",
       "      <th>3</th>\n",
       "      <th>4</th>\n",
       "      <th>5</th>\n",
       "      <th>6</th>\n",
       "      <th>7</th>\n",
       "      <th>8</th>\n",
       "      <th>9</th>\n",
       "    </tr>\n",
       "    <tr>\n",
       "      <th>actual_overallrating</th>\n",
       "      <th></th>\n",
       "      <th></th>\n",
       "      <th></th>\n",
       "      <th></th>\n",
       "      <th></th>\n",
       "      <th></th>\n",
       "      <th></th>\n",
       "      <th></th>\n",
       "      <th></th>\n",
       "    </tr>\n",
       "  </thead>\n",
       "  <tbody>\n",
       "    <tr>\n",
       "      <th>1.0</th>\n",
       "      <td>17</td>\n",
       "      <td>1</td>\n",
       "      <td>9</td>\n",
       "      <td>0</td>\n",
       "      <td>3</td>\n",
       "      <td>0</td>\n",
       "      <td>0</td>\n",
       "      <td>1</td>\n",
       "      <td>0</td>\n",
       "    </tr>\n",
       "    <tr>\n",
       "      <th>2.0</th>\n",
       "      <td>0</td>\n",
       "      <td>10</td>\n",
       "      <td>10</td>\n",
       "      <td>1</td>\n",
       "      <td>1</td>\n",
       "      <td>0</td>\n",
       "      <td>3</td>\n",
       "      <td>2</td>\n",
       "      <td>0</td>\n",
       "    </tr>\n",
       "    <tr>\n",
       "      <th>3.0</th>\n",
       "      <td>3</td>\n",
       "      <td>5</td>\n",
       "      <td>59</td>\n",
       "      <td>3</td>\n",
       "      <td>29</td>\n",
       "      <td>4</td>\n",
       "      <td>27</td>\n",
       "      <td>3</td>\n",
       "      <td>0</td>\n",
       "    </tr>\n",
       "    <tr>\n",
       "      <th>4.0</th>\n",
       "      <td>1</td>\n",
       "      <td>0</td>\n",
       "      <td>16</td>\n",
       "      <td>10</td>\n",
       "      <td>16</td>\n",
       "      <td>5</td>\n",
       "      <td>32</td>\n",
       "      <td>2</td>\n",
       "      <td>0</td>\n",
       "    </tr>\n",
       "    <tr>\n",
       "      <th>5.0</th>\n",
       "      <td>0</td>\n",
       "      <td>3</td>\n",
       "      <td>26</td>\n",
       "      <td>1</td>\n",
       "      <td>33</td>\n",
       "      <td>9</td>\n",
       "      <td>118</td>\n",
       "      <td>12</td>\n",
       "      <td>0</td>\n",
       "    </tr>\n",
       "    <tr>\n",
       "      <th>6.0</th>\n",
       "      <td>0</td>\n",
       "      <td>3</td>\n",
       "      <td>12</td>\n",
       "      <td>5</td>\n",
       "      <td>22</td>\n",
       "      <td>18</td>\n",
       "      <td>181</td>\n",
       "      <td>18</td>\n",
       "      <td>2</td>\n",
       "    </tr>\n",
       "    <tr>\n",
       "      <th>7.0</th>\n",
       "      <td>0</td>\n",
       "      <td>8</td>\n",
       "      <td>23</td>\n",
       "      <td>10</td>\n",
       "      <td>26</td>\n",
       "      <td>18</td>\n",
       "      <td>623</td>\n",
       "      <td>286</td>\n",
       "      <td>57</td>\n",
       "    </tr>\n",
       "    <tr>\n",
       "      <th>8.0</th>\n",
       "      <td>0</td>\n",
       "      <td>2</td>\n",
       "      <td>4</td>\n",
       "      <td>1</td>\n",
       "      <td>6</td>\n",
       "      <td>10</td>\n",
       "      <td>192</td>\n",
       "      <td>250</td>\n",
       "      <td>139</td>\n",
       "    </tr>\n",
       "    <tr>\n",
       "      <th>9.0</th>\n",
       "      <td>0</td>\n",
       "      <td>0</td>\n",
       "      <td>2</td>\n",
       "      <td>0</td>\n",
       "      <td>0</td>\n",
       "      <td>0</td>\n",
       "      <td>44</td>\n",
       "      <td>51</td>\n",
       "      <td>168</td>\n",
       "    </tr>\n",
       "  </tbody>\n",
       "</table>\n",
       "</div>"
      ],
      "text/plain": [
       "predicted_rating       1   2   3   4   5   6    7    8    9\n",
       "actual_overallrating                                       \n",
       "1.0                   17   1   9   0   3   0    0    1    0\n",
       "2.0                    0  10  10   1   1   0    3    2    0\n",
       "3.0                    3   5  59   3  29   4   27    3    0\n",
       "4.0                    1   0  16  10  16   5   32    2    0\n",
       "5.0                    0   3  26   1  33   9  118   12    0\n",
       "6.0                    0   3  12   5  22  18  181   18    2\n",
       "7.0                    0   8  23  10  26  18  623  286   57\n",
       "8.0                    0   2   4   1   6  10  192  250  139\n",
       "9.0                    0   0   2   0   0   0   44   51  168"
      ]
     },
     "execution_count": 10,
     "metadata": {},
     "output_type": "execute_result"
    }
   ],
   "source": [
    "'get the maximum probability for each observation to belong to a particular class'\n",
    "\n",
    "'''\n",
    "retrieve the maximum value out from each row/observation and check its respective class label(column) to get the overall\n",
    "rating \n",
    "'''\n",
    "# assign column names = class labels in our data\n",
    "predictedvalues_traindata = predictedvalues_traindata.idxmax(axis=1, skipna=True) # get the max value in row and column name corresponding to that maximum rowvalue.\n",
    "\n",
    "\n",
    "predictedvalues_traindata1 = list(predictedvalues_traindata)\n",
    "predictedvalues_traindata1 = [int(i) for i in predictedvalues_traindata1]\n",
    "temp= pd.DataFrame(list(zip(list(predictedvalues_traindata1), list(dv))), columns =['predicted_rating', 'actual_overallrating'])\n",
    "print(\"Actual overall ratings and Predicted Ratings-\")\n",
    "display(temp)\n",
    "\n",
    "\n",
    "#temp['indexval'] = ind\n",
    "\n",
    "corr_data= round(float(temp.corr(method ='pearson').iloc[1][[0]]),2)\n",
    "print(\"Correlation between actual rating and predicted ratings: \",corr_data)\n",
    "\n",
    "\n",
    "print(\"\\ncorrelation between actual and predictions-\")\n",
    "pd.crosstab(temp['actual_overallrating'], temp['predicted_rating'], rownames=['actual_overallrating'], colnames=['predicted_rating'])\n"
   ]
  },
  {
   "cell_type": "code",
   "execution_count": null,
   "id": "21d5b4ac",
   "metadata": {},
   "outputs": [],
   "source": [
    "'''\n",
    "We observe that the matrix is dense diagonally which implies that most of our actual and predicted rating re similar.\n",
    "'''"
   ]
  },
  {
   "cell_type": "code",
   "execution_count": 11,
   "id": "a64409ae",
   "metadata": {},
   "outputs": [],
   "source": [
    "#https://peterroelants.github.io/posts/multivariate-normal-primer/"
   ]
  }
 ],
 "metadata": {
  "kernelspec": {
   "display_name": "Python 3 (ipykernel)",
   "language": "python",
   "name": "python3"
  },
  "language_info": {
   "codemirror_mode": {
    "name": "ipython",
    "version": 3
   },
   "file_extension": ".py",
   "mimetype": "text/x-python",
   "name": "python",
   "nbconvert_exporter": "python",
   "pygments_lexer": "ipython3",
   "version": "3.7.0"
  }
 },
 "nbformat": 4,
 "nbformat_minor": 5
}
